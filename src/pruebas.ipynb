{
 "cells": [
  {
   "cell_type": "code",
   "execution_count": 1,
   "metadata": {},
   "outputs": [
    {
     "data": {
      "text/plain": [
       "Dict{Int64, Dict{String, String}} with 16 entries:\n",
       "  16 => Dict(\"name\"=>\"SPI1_CS1\", \"file_number\"=>\"232\")\n",
       "  7  => Dict(\"name\"=>\"GPIO9\", \"file_number\"=>\"216\")\n",
       "  29 => Dict(\"name\"=>\"GPIO01\", \"file_number\"=>\"149\")\n",
       "  12 => Dict(\"name\"=>\"I2S0_SCLK\", \"file_number\"=>\"79\")\n",
       "  24 => Dict(\"name\"=>\"SPI0_CS0\", \"file_number\"=>\"19\")\n",
       "  23 => Dict(\"name\"=>\"SPI0_SCK\", \"file_number\"=>\"18\")\n",
       "  19 => Dict(\"name\"=>\"SPI0_MOSI\", \"file_number\"=>\"16\")\n",
       "  22 => Dict(\"name\"=>\"SPI1_MISO\", \"file_number\"=>\"13\")\n",
       "  13 => Dict(\"name\"=>\"SPI1_SCK\", \"file_number\"=>\"14\")\n",
       "  15 => Dict(\"name\"=>\"GPIO12\", \"file_number\"=>\"194\")\n",
       "  21 => Dict(\"name\"=>\"SPI0_MISO\", \"file_number\"=>\"17\")\n",
       "  11 => Dict(\"name\"=>\"UART1_RTS\", \"file_number\"=>\"50\")\n",
       "  32 => Dict(\"name\"=>\"GPIO07\", \"file_number\"=>\"168\")\n",
       "  18 => Dict(\"name\"=>\"SPI1_CS0\", \"file_number\"=>\"15\")\n",
       "  26 => Dict(\"name\"=>\"SPI0_CS1\", \"file_number\"=>\"20\")\n",
       "  31 => Dict(\"name\"=>\"GPIO11\", \"file_number\"=>\"200\")"
      ]
     },
     "execution_count": 1,
     "metadata": {},
     "output_type": "execute_result"
    }
   ],
   "source": [
    "JETSON_NANO_CHANNELS_DICT = Dict(\n",
    "        7 => Dict(\"file_number\" => \"216\", \"name\" => \"GPIO9\"),\n",
    "        11 => Dict(\"file_number\" => \"50\", \"name\" => \"UART1_RTS\"),\n",
    "        12 => Dict(\"file_number\" => \"79\", \"name\" => \"I2S0_SCLK\"),\n",
    "        13 => Dict(\"file_number\" => \"14\", \"name\" => \"SPI1_SCK\"),\n",
    "        15 => Dict(\"file_number\" => \"194\", \"name\" => \"GPIO12\"),\n",
    "        16 => Dict(\"file_number\" => \"232\", \"name\" => \"SPI1_CS1\"),\n",
    "        18 => Dict(\"file_number\" => \"15\", \"name\" => \"SPI1_CS0\"),\n",
    "        19 => Dict(\"file_number\" => \"16\", \"name\" => \"SPI0_MOSI\"),\n",
    "        21 => Dict(\"file_number\" => \"17\", \"name\" => \"SPI0_MISO\"),\n",
    "        22 => Dict(\"file_number\" => \"13\", \"name\" => \"SPI1_MISO\"),\n",
    "        23 => Dict(\"file_number\" => \"18\", \"name\" => \"SPI0_SCK\"),\n",
    "        24 => Dict(\"file_number\" => \"19\", \"name\" => \"SPI0_CS0\"),\n",
    "        26 => Dict(\"file_number\" => \"20\", \"name\" => \"SPI0_CS1\"),\n",
    "        29 => Dict(\"file_number\" => \"149\", \"name\" => \"GPIO01\"),\n",
    "        31 => Dict(\"file_number\" => \"200\", \"name\" => \"GPIO11\"),\n",
    "        # Older versions of L4T have a DT bug which instantiates a bogus device which prevents this library from using this PWM channel.\n",
    "        32 => Dict(\"file_number\" => \"168\", \"name\" => \"GPIO07\"),\n",
    "        # 33 => Dict(\"file_number\" => \"38\", \"name\" => \"GPIO13\"),\n",
    "        # 35 => Dict(\"file_number\" => \"76\", \"name\" => \"I2S0_FS\"),\n",
    "        # 36 => Dict(\"file_number\" => \"51\", \"name\" => \"UART1_CTS\"),\n",
    "        # 37 => Dict(\"file_number\" => \"12\", \"name\" => \"SPI1_MOSI\"),\n",
    "        # 38 => Dict(\"file_number\" => \"77\", \"name\" => \"I2S0_DIN\"),\n",
    "        # 40 => Dict(\"file_number\" => \"78\", \"name\" => \"I2S0_DOUT\"),\n",
    "                                )"
   ]
  },
  {
   "cell_type": "code",
   "execution_count": 6,
   "metadata": {},
   "outputs": [
    {
     "data": {
      "text/plain": [
       "\"232\""
      ]
     },
     "execution_count": 6,
     "metadata": {},
     "output_type": "execute_result"
    }
   ],
   "source": [
    "JETSON_NANO_CHANNELS_DICT[16][\"file_number\"]"
   ]
  },
  {
   "cell_type": "code",
   "execution_count": 12,
   "metadata": {},
   "outputs": [
    {
     "name": "stdout",
     "output_type": "stream",
     "text": [
      "16\n",
      "7\n",
      "29\n",
      "12\n",
      "24\n",
      "23\n",
      "19\n",
      "22\n",
      "13\n",
      "15\n",
      "21\n",
      "11\n",
      "32\n",
      "18\n",
      "26\n",
      "31\n"
     ]
    }
   ],
   "source": [
    "for key in keys(JETSON_NANO_CHANNELS_DICT)\n",
    "    println(key) \n",
    "end"
   ]
  },
  {
   "cell_type": "code",
   "execution_count": 4,
   "metadata": {},
   "outputs": [
    {
     "ename": "LoadError",
     "evalue": "KeyError: key 16 => Dict(\"name\" => \"SPI1_CS1\", \"file_number\" => \"232\") not found",
     "output_type": "error",
     "traceback": [
      "KeyError: key 16 => Dict(\"name\" => \"SPI1_CS1\", \"file_number\" => \"232\") not found",
      "",
      "Stacktrace:",
      " [1] getindex(h::Dict{Int64, Dict{String, String}}, key::Pair{Int64, Dict{String, String}})",
      "   @ Base ./dict.jl:498",
      " [2] (::var\"#5#6\")(key::Pair{Int64, Dict{String, String}})",
      "   @ Main ./none:0",
      " [3] iterate",
      "   @ ./generator.jl:47 [inlined]",
      " [4] collect(itr::Base.Generator{Dict{Int64, Dict{String, String}}, var\"#5#6\"})",
      "   @ Base ./array.jl:787",
      " [5] top-level scope",
      "   @ In[4]:1"
     ]
    }
   ],
   "source": [
    "[JETSON_NANO_CHANNELS_DICT[key][\"file_number\"] for key in JETSON_NANO_CHANNELS_DICT]"
   ]
  },
  {
   "cell_type": "code",
   "execution_count": null,
   "metadata": {},
   "outputs": [],
   "source": []
  }
 ],
 "metadata": {
  "kernelspec": {
   "display_name": "Julia 1.8.5",
   "language": "julia",
   "name": "julia-1.8"
  },
  "language_info": {
   "file_extension": ".jl",
   "mimetype": "application/julia",
   "name": "julia",
   "version": "1.8.5"
  },
  "orig_nbformat": 4
 },
 "nbformat": 4,
 "nbformat_minor": 2
}
